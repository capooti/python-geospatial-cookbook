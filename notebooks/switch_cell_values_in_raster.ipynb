{
 "cells": [
  {
   "cell_type": "code",
   "execution_count": 6,
   "metadata": {},
   "outputs": [],
   "source": [
    "import rasterio"
   ]
  },
  {
   "cell_type": "code",
   "execution_count": 12,
   "metadata": {},
   "outputs": [
    {
     "data": {
      "text/plain": [
       "((1439, 1560), ('uint8',))"
      ]
     },
     "execution_count": 12,
     "metadata": {},
     "output_type": "execute_result"
    }
   ],
   "source": [
    "ds_path = '../data/raster_to_update.tif'\n",
    "ds = rasterio.open(ds_path)\n",
    "arr = ds.read(1)\n",
    "ds.shape, ds.dtypes"
   ]
  },
  {
   "cell_type": "code",
   "execution_count": 13,
   "metadata": {},
   "outputs": [
    {
     "data": {
      "text/plain": [
       "(array([0, 1, 2, 3, 4], dtype=uint8),\n",
       " array([1780986,  153547,  196223,   86853,   27231]))"
      ]
     },
     "execution_count": 13,
     "metadata": {},
     "output_type": "execute_result"
    }
   ],
   "source": [
    "import numpy as np\n",
    "np.unique(arr, return_counts=True)"
   ]
  },
  {
   "cell_type": "code",
   "execution_count": 15,
   "metadata": {},
   "outputs": [],
   "source": [
    "arr[arr==1] = 201\n",
    "arr[arr==2] = 202\n",
    "arr[arr==201] = 2\n",
    "arr[arr==202] = 1"
   ]
  },
  {
   "cell_type": "code",
   "execution_count": 16,
   "metadata": {},
   "outputs": [
    {
     "data": {
      "text/plain": [
       "(array([0, 1, 2, 3, 4], dtype=uint8),\n",
       " array([1780986,  196223,  153547,   86853,   27231]))"
      ]
     },
     "execution_count": 16,
     "metadata": {},
     "output_type": "execute_result"
    }
   ],
   "source": [
    "np.unique(arr, return_counts=True)"
   ]
  },
  {
   "cell_type": "code",
   "execution_count": 26,
   "metadata": {},
   "outputs": [],
   "source": [
    "out_path = '/tmp/out.tiff'\n",
    "with rasterio.open(\n",
    "        out_path,\n",
    "        'w',\n",
    "        driver='GTiff',\n",
    "        height=arr.shape[0],\n",
    "        width=arr.shape[1],\n",
    "        count=1,\n",
    "        dtype=rasterio.uint8,\n",
    "        crs=rasterio.crs.CRS.from_epsg(4326),\n",
    "        transform=ds.transform,\n",
    "    ) as dst:\n",
    "    dst.write(arr, 1)\n",
    "dst.close()"
   ]
  },
  {
   "cell_type": "code",
   "execution_count": 27,
   "metadata": {},
   "outputs": [
    {
     "data": {
      "text/plain": [
       "(array([0, 1, 2, 3, 4], dtype=uint8),\n",
       " array([1780986,  196223,  153547,   86853,   27231]))"
      ]
     },
     "execution_count": 27,
     "metadata": {},
     "output_type": "execute_result"
    }
   ],
   "source": [
    "ds = rasterio.open(out_path)\n",
    "arr = ds.read(1)\n",
    "ds.shape, ds.dtypes\n",
    "np.unique(arr, return_counts=True)"
   ]
  },
  {
   "cell_type": "code",
   "execution_count": null,
   "metadata": {},
   "outputs": [],
   "source": []
  }
 ],
 "metadata": {
  "kernelspec": {
   "display_name": "Python 3",
   "language": "python",
   "name": "python3"
  },
  "language_info": {
   "codemirror_mode": {
    "name": "ipython",
    "version": 3
   },
   "file_extension": ".py",
   "mimetype": "text/x-python",
   "name": "python",
   "nbconvert_exporter": "python",
   "pygments_lexer": "ipython3",
   "version": "3.8.5"
  }
 },
 "nbformat": 4,
 "nbformat_minor": 4
}
